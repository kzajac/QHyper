{
 "cells": [
  {
   "cell_type": "code",
   "execution_count": 27,
   "metadata": {},
   "outputs": [],
   "source": [
    "import pennylane as qml\n",
    "import numpy as np\n",
    "import sys\n",
    "sys.path.append('..')\n",
    "from QHyper.optimizers.CEM import CEM\n",
    "from QHyper.optimizers.random import Random\n",
    "from QHyper.optimizers.qml_gradient_descent import QmlGradientDescent\n",
    "from QHyper.solvers.QAOA.core import QAOA"
   ]
  },
  {
   "cell_type": "markdown",
   "metadata": {},
   "source": [
    "## TSP problem"
   ]
  },
  {
   "cell_type": "code",
   "execution_count": 16,
   "metadata": {},
   "outputs": [],
   "source": [
    "from QHyper.problems.TSP import TSPProblem"
   ]
  },
  {
   "cell_type": "code",
   "execution_count": 17,
   "metadata": {},
   "outputs": [],
   "source": [
    "tsp = TSPProblem(\n",
    "    number_of_cities=3,\n",
    ")"
   ]
  },
  {
   "cell_type": "code",
   "execution_count": 18,
   "metadata": {},
   "outputs": [],
   "source": [
    "solver = QAOA(\n",
    "    problem=tsp,\n",
    "    platform=\"pennylane\",\n",
    "    optimizer=QmlGradientDescent(200, qml.AdamOptimizer(stepsize=0.05)),\n",
    "    layers=5,\n",
    "    angles=[[0.5]*5, [0.5]*5],\n",
    "    # mixer: str=,\n",
    "    weights=[1, 1, 1],\n",
    "    hyperoptimizer=CEM(\n",
    "        epochs=5,\n",
    "        samples_per_epoch=100,\n",
    "        elite_frac=0.1\n",
    "    ),\n",
    "    # backend=\n",
    ")"
   ]
  },
  {
   "cell_type": "code",
   "execution_count": 19,
   "metadata": {},
   "outputs": [
    {
     "name": "stderr",
     "output_type": "stream",
     "text": [
      "  0%|          | 0/101 [00:04<?, ?it/s]\n"
     ]
    },
    {
     "ename": "TypeError",
     "evalue": "float() argument must be a string or a real number, not 'ArrayBox'",
     "output_type": "error",
     "traceback": [
      "\u001b[1;31m---------------------------------------------------------------------------\u001b[0m",
      "\u001b[1;31mRemoteTraceback\u001b[0m                           Traceback (most recent call last)",
      "\u001b[1;31mRemoteTraceback\u001b[0m: \n\"\"\"\nTraceback (most recent call last):\n  File \"c:\\Python310\\lib\\multiprocessing\\pool.py\", line 125, in worker\n    result = (True, func(*args, **kwds))\n  File \"c:\\Users\\kzajac\\Dropbox\\mariusz\\repo\\QHyper\\demo\\..\\QHyper\\optimizers\\optimizer.py\", line 92, in func\n    params = self.optimizer.minimize(_func, self.init)\n  File \"c:\\Users\\kzajac\\Dropbox\\mariusz\\repo\\QHyper\\demo\\..\\QHyper\\optimizers\\qml_gradient_descent.py\", line 55, in minimize\n    params = self.optimizer.step(func, params)\n  File \"C:\\Users\\kzajac\\AppData\\Roaming\\Python\\Python310\\site-packages\\pennylane\\optimize\\gradient_descent.py\", line 88, in step\n    g, _ = self.compute_grad(objective_fn, args, kwargs, grad_fn=grad_fn)\n  File \"C:\\Users\\kzajac\\AppData\\Roaming\\Python\\Python310\\site-packages\\pennylane\\optimize\\gradient_descent.py\", line 117, in compute_grad\n    grad = g(*args, **kwargs)\n  File \"C:\\Users\\kzajac\\AppData\\Roaming\\Python\\Python310\\site-packages\\pennylane\\_grad.py\", line 115, in __call__\n    grad_value, ans = grad_fn(*args, **kwargs)\n  File \"C:\\Users\\kzajac\\AppData\\Roaming\\Python\\Python310\\site-packages\\autograd\\wrap_util.py\", line 20, in nary_f\n    return unary_operator(unary_f, x, *nary_op_args, **nary_op_kwargs)\n  File \"C:\\Users\\kzajac\\AppData\\Roaming\\Python\\Python310\\site-packages\\pennylane\\_grad.py\", line 133, in _grad_with_forward\n    vjp, ans = _make_vjp(fun, x)\n  File \"C:\\Users\\kzajac\\AppData\\Roaming\\Python\\Python310\\site-packages\\autograd\\core.py\", line 10, in make_vjp\n    end_value, end_node =  trace(start_node, fun, x)\n  File \"C:\\Users\\kzajac\\AppData\\Roaming\\Python\\Python310\\site-packages\\autograd\\tracer.py\", line 10, in trace\n    end_box = fun(start_box)\n  File \"C:\\Users\\kzajac\\AppData\\Roaming\\Python\\Python310\\site-packages\\autograd\\wrap_util.py\", line 15, in unary_f\n    return fun(*subargs, **kwargs)\n  File \"c:\\Users\\kzajac\\Dropbox\\mariusz\\repo\\QHyper\\demo\\..\\QHyper\\solvers\\QAOA\\Pennylane.py\", line 144, in probability_value\n    return self.check_results(probs)\n  File \"c:\\Users\\kzajac\\Dropbox\\mariusz\\repo\\QHyper\\demo\\..\\QHyper\\solvers\\QAOA\\Pennylane.py\", line 188, in check_results\n    results_by_probabilites = {result: float(prob) for result, prob in enumerate(probs)}\n  File \"c:\\Users\\kzajac\\Dropbox\\mariusz\\repo\\QHyper\\demo\\..\\QHyper\\solvers\\QAOA\\Pennylane.py\", line 188, in <dictcomp>\n    results_by_probabilites = {result: float(prob) for result, prob in enumerate(probs)}\nTypeError: float() argument must be a string or a real number, not 'ArrayBox'\n\"\"\"",
      "\nThe above exception was the direct cause of the following exception:\n",
      "\u001b[1;31mTypeError\u001b[0m                                 Traceback (most recent call last)",
      "Cell \u001b[1;32mIn[19], line 1\u001b[0m\n\u001b[1;32m----> 1\u001b[0m value, params, weights \u001b[39m=\u001b[39m solver\u001b[39m.\u001b[39;49msolve()\n",
      "File \u001b[1;32mc:\\Users\\kzajac\\Dropbox\\mariusz\\repo\\QHyper\\demo\\..\\QHyper\\solvers\\QAOA\\Pennylane.py:231\u001b[0m, in \u001b[0;36mPennyLaneQAOA.solve\u001b[1;34m(self)\u001b[0m\n\u001b[0;32m    221\u001b[0m \u001b[39m\"\"\"Run optimizer and hyperoptimizer (if provided)\u001b[39;00m\n\u001b[0;32m    222\u001b[0m \u001b[39mIf hyperoptimizer is provided in constructor, weights will be optimized first.\u001b[39;00m\n\u001b[0;32m    223\u001b[0m \u001b[39mNext optimizer takes these weights, and returns angles which gives the best probabilities.\u001b[39;00m\n\u001b[1;32m   (...)\u001b[0m\n\u001b[0;32m    228\u001b[0m \u001b[39m    Returns tuple of score, angles, weights\u001b[39;00m\n\u001b[0;32m    229\u001b[0m \u001b[39m\"\"\"\u001b[39;00m\n\u001b[0;32m    230\u001b[0m value_function \u001b[39m=\u001b[39m \u001b[39mself\u001b[39m\u001b[39m.\u001b[39mget_probs_val_func\n\u001b[1;32m--> 231\u001b[0m weights \u001b[39m=\u001b[39m \u001b[39mself\u001b[39;49m\u001b[39m.\u001b[39;49mhyperoptimizer\u001b[39m.\u001b[39;49mminimize(\n\u001b[0;32m    232\u001b[0m     value_function, \u001b[39mself\u001b[39;49m\u001b[39m.\u001b[39;49moptimizer, \u001b[39mself\u001b[39;49m\u001b[39m.\u001b[39;49mangles, np\u001b[39m.\u001b[39;49marray(\u001b[39mself\u001b[39;49m\u001b[39m.\u001b[39;49mweights), [\u001b[39m0\u001b[39;49m, \u001b[39m100\u001b[39;49m]\n\u001b[0;32m    233\u001b[0m     ) \u001b[39mif\u001b[39;00m \u001b[39mself\u001b[39m\u001b[39m.\u001b[39mhyperoptimizer \u001b[39melse\u001b[39;00m \u001b[39mself\u001b[39m\u001b[39m.\u001b[39mweights\n\u001b[0;32m    235\u001b[0m params \u001b[39m=\u001b[39m \u001b[39mself\u001b[39m\u001b[39m.\u001b[39moptimizer\u001b[39m.\u001b[39mminimize(\u001b[39mself\u001b[39m\u001b[39m.\u001b[39mget_expval_func(weights), \u001b[39mself\u001b[39m\u001b[39m.\u001b[39mangles)\n\u001b[0;32m    236\u001b[0m \u001b[39mreturn\u001b[39;00m value_function(weights)(params), params, weights\n",
      "File \u001b[1;32mc:\\Users\\kzajac\\Dropbox\\mariusz\\repo\\QHyper\\demo\\..\\QHyper\\optimizers\\CEM.py:109\u001b[0m, in \u001b[0;36mCEM.minimize\u001b[1;34m(self, func_creator, optimizer, init, hyperparams_init, bounds, **kwargs)\u001b[0m\n\u001b[0;32m    106\u001b[0m rewards \u001b[39m=\u001b[39m []\n\u001b[0;32m    108\u001b[0m \u001b[39mwith\u001b[39;00m mp\u001b[39m.\u001b[39mPool(processes\u001b[39m=\u001b[39m\u001b[39mself\u001b[39m\u001b[39m.\u001b[39mprocesses) \u001b[39mas\u001b[39;00m p:\n\u001b[1;32m--> 109\u001b[0m     results \u001b[39m=\u001b[39m \u001b[39mlist\u001b[39;49m(tqdm\u001b[39m.\u001b[39;49mtqdm(p\u001b[39m.\u001b[39;49mimap(worker\u001b[39m.\u001b[39;49mfunc, hyperparams), total\u001b[39m=\u001b[39;49m\u001b[39mlen\u001b[39;49m(hyperparams)))\n\u001b[0;32m    111\u001b[0m rewards \u001b[39m=\u001b[39m np\u001b[39m.\u001b[39marray([result \u001b[39mfor\u001b[39;00m result \u001b[39min\u001b[39;00m results])\n\u001b[0;32m    113\u001b[0m elite_idxs \u001b[39m=\u001b[39m rewards\u001b[39m.\u001b[39margsort()[:\u001b[39mself\u001b[39m\u001b[39m.\u001b[39mn_elite]\n",
      "File \u001b[1;32m~\\AppData\\Roaming\\Python\\Python310\\site-packages\\tqdm\\std.py:1195\u001b[0m, in \u001b[0;36mtqdm.__iter__\u001b[1;34m(self)\u001b[0m\n\u001b[0;32m   1192\u001b[0m time \u001b[39m=\u001b[39m \u001b[39mself\u001b[39m\u001b[39m.\u001b[39m_time\n\u001b[0;32m   1194\u001b[0m \u001b[39mtry\u001b[39;00m:\n\u001b[1;32m-> 1195\u001b[0m     \u001b[39mfor\u001b[39;00m obj \u001b[39min\u001b[39;00m iterable:\n\u001b[0;32m   1196\u001b[0m         \u001b[39myield\u001b[39;00m obj\n\u001b[0;32m   1197\u001b[0m         \u001b[39m# Update and possibly print the progressbar.\u001b[39;00m\n\u001b[0;32m   1198\u001b[0m         \u001b[39m# Note: does not call self.update(1) for speed optimisation.\u001b[39;00m\n",
      "File \u001b[1;32mc:\\Python310\\lib\\multiprocessing\\pool.py:870\u001b[0m, in \u001b[0;36mIMapIterator.next\u001b[1;34m(self, timeout)\u001b[0m\n\u001b[0;32m    868\u001b[0m \u001b[39mif\u001b[39;00m success:\n\u001b[0;32m    869\u001b[0m     \u001b[39mreturn\u001b[39;00m value\n\u001b[1;32m--> 870\u001b[0m \u001b[39mraise\u001b[39;00m value\n",
      "\u001b[1;31mTypeError\u001b[0m: float() argument must be a string or a real number, not 'ArrayBox'"
     ]
    }
   ],
   "source": [
    "value, params, weights = solver.solve()"
   ]
  },
  {
   "cell_type": "code",
   "execution_count": 20,
   "metadata": {},
   "outputs": [
    {
     "ename": "NameError",
     "evalue": "name 'weights' is not defined",
     "output_type": "error",
     "traceback": [
      "\u001b[1;31m---------------------------------------------------------------------------\u001b[0m",
      "\u001b[1;31mNameError\u001b[0m                                 Traceback (most recent call last)",
      "Cell \u001b[1;32mIn[20], line 1\u001b[0m\n\u001b[1;32m----> 1\u001b[0m probs \u001b[39m=\u001b[39m solver\u001b[39m.\u001b[39mget_probs_func(weights)(params)\n",
      "\u001b[1;31mNameError\u001b[0m: name 'weights' is not defined"
     ]
    }
   ],
   "source": [
    "probs = solver.get_probs_func(weights)(params)"
   ]
  },
  {
   "cell_type": "code",
   "execution_count": null,
   "metadata": {},
   "outputs": [],
   "source": [
    "solver.check_results(probs)"
   ]
  },
  {
   "cell_type": "code",
   "execution_count": null,
   "metadata": {},
   "outputs": [],
   "source": [
    "%load_ext autoreload\n",
    "%autoreload 2"
   ]
  },
  {
   "cell_type": "code",
   "execution_count": null,
   "metadata": {},
   "outputs": [],
   "source": [
    "solver.print_results(probs)"
   ]
  },
  {
   "cell_type": "markdown",
   "metadata": {},
   "source": [
    "## Knapsack problem"
   ]
  },
  {
   "cell_type": "code",
   "execution_count": 21,
   "metadata": {},
   "outputs": [],
   "source": [
    "from QHyper.problems.Knapsack import Knapsack, KnapsackProblem"
   ]
  },
  {
   "cell_type": "code",
   "execution_count": 22,
   "metadata": {},
   "outputs": [],
   "source": [
    "knapsack = Knapsack(max_weight=2)\n",
    "knapsack.set_knapsack([(2, 2), (3, 1)])\n",
    "knapsack_qaoa = KnapsackProblem(knapsack)"
   ]
  },
  {
   "cell_type": "code",
   "execution_count": 23,
   "metadata": {},
   "outputs": [],
   "source": [
    "solver = QAOA(\n",
    "    problem=knapsack_qaoa,\n",
    "    platform=\"pennylane\",\n",
    "    optimizer=QmlGradientDescent(200, qml.AdamOptimizer(stepsize=0.05)),\n",
    "    layers=5,\n",
    "    angles=[[0.5]*5, [0.5]*5],\n",
    "    # mixer: str=,\n",
    "    weights=[2.72616422, 4.59436366, 4.46463072],\n",
    "    # hyperoptimizer=CEM(),\n",
    "    # backend=\n",
    ")\n",
    "value, params, weights = solver.solve()"
   ]
  },
  {
   "cell_type": "code",
   "execution_count": 24,
   "metadata": {},
   "outputs": [],
   "source": [
    "probs = solver.get_probs_func(weights)(params)"
   ]
  },
  {
   "cell_type": "code",
   "execution_count": 25,
   "metadata": {},
   "outputs": [
    {
     "data": {
      "text/plain": [
       "-1.6037486902664442"
      ]
     },
     "execution_count": 25,
     "metadata": {},
     "output_type": "execute_result"
    }
   ],
   "source": [
    "solver.check_results(probs)"
   ]
  },
  {
   "cell_type": "code",
   "execution_count": 26,
   "metadata": {},
   "outputs": [
    {
     "name": "stdout",
     "output_type": "stream",
     "text": [
      "Key: 1001 with probability 0.80187   | correct: True, value: 2.00000\n",
      "Key: 1010 with probability 0.08815   | correct: False\n",
      "Key: 1011 with probability 0.01811   | correct: False\n",
      "Key: 0000 with probability 0.01793   | correct: True, value: 0.00000\n",
      "Key: 1111 with probability 0.01787   | correct: False\n",
      "Key: 0101 with probability 0.01624   | correct: False\n",
      "Key: 0010 with probability 0.01390   | correct: False\n",
      "Key: 0001 with probability 0.00974   | correct: False\n",
      "Key: 0110 with probability 0.00761   | correct: False\n",
      "Key: 1110 with probability 0.00399   | correct: False\n",
      "Key: 0111 with probability 0.00142   | correct: False\n",
      "Key: 1000 with probability 0.00111   | correct: False\n",
      "Key: 0100 with probability 0.00104   | correct: False\n",
      "Key: 0011 with probability 0.00051   | correct: False\n",
      "Key: 1100 with probability 0.00051   | correct: False\n",
      "Key: 1101 with probability 0.00001   | correct: False\n"
     ]
    }
   ],
   "source": [
    "solver.print_results(probs)"
   ]
  },
  {
   "cell_type": "code",
   "execution_count": null,
   "metadata": {},
   "outputs": [],
   "source": []
  }
 ],
 "metadata": {
  "kernelspec": {
   "display_name": "Python 3",
   "language": "python",
   "name": "python3"
  },
  "language_info": {
   "codemirror_mode": {
    "name": "ipython",
    "version": 3
   },
   "file_extension": ".py",
   "mimetype": "text/x-python",
   "name": "python",
   "nbconvert_exporter": "python",
   "pygments_lexer": "ipython3",
   "version": "3.10.4"
  },
  "orig_nbformat": 4,
  "vscode": {
   "interpreter": {
    "hash": "369f2c481f4da34e4445cda3fffd2e751bd1c4d706f27375911949ba6bb62e1c"
   }
  }
 },
 "nbformat": 4,
 "nbformat_minor": 2
}
