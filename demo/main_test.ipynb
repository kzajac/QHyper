{
 "cells": [
  {
   "cell_type": "code",
   "execution_count": 1,
   "metadata": {},
   "outputs": [],
   "source": [
    "\n",
    "import sys\n",
    "sys.path.append('..')\n",
    "import pennylane as qml\n",
    "import numpy as np\n",
    "\n",
    "from QHyper.optimizers.qml_gradient_descent import QmlGradientDescent\n",
    "from QHyper.solvers.QAOA.core import QAOA"
   ]
  },
  {
   "cell_type": "markdown",
   "metadata": {},
   "source": [
    "## Workflow test problem"
   ]
  },
  {
   "cell_type": "code",
   "execution_count": 2,
   "metadata": {},
   "outputs": [],
   "source": [
    "from QHyper.problems.Workflowtest import WorkflowtestProblem"
   ]
  },
  {
   "cell_type": "code",
   "execution_count": 3,
   "metadata": {},
   "outputs": [
    {
     "name": "stdout",
     "output_type": "stream",
     "text": [
      "6.0*x0 + 8.0*x1 + 8.0*x2 + 3.0*x3 + 4.0*x4 + 4.0*x5 + 12.0*x6 + 16.0*x7 + 16.0*x8\n",
      "[x0**2 + 2*x0*x1 + 2*x0*x2 - 2*x0 + x1**2 + 2*x1*x2 - 2*x1 + x2**2 - 2*x2 + x3**2 + 2*x3*x4 + 2*x3*x5 - 2*x3 + x4**2 + 2*x4*x5 - 2*x4 + x5**2 - 2*x5 + x6**2 + 2*x6*x7 + 2*x6*x8 - 2*x6 + x7**2 + 2*x7*x8 - 2*x7 + x8**2 - 2*x8 + 3, 36.0*x0**2 + 24.0*x0*x1 + 48.0*x0*x10 + 24.0*x0*x11 + 12.0*x0*x12 + 48.0*x0*x2 + 36.0*x0*x3 + 12.0*x0*x4 + 24.0*x0*x5 + 144.0*x0*x6 + 48.0*x0*x7 + 96.0*x0*x8 + 96.0*x0*x9 - 228.0*x0 + 4.0*x1**2 + 16.0*x1*x10 + 8.0*x1*x11 + 4.0*x1*x12 + 16.0*x1*x2 + 12.0*x1*x3 + 4.0*x1*x4 + 8.0*x1*x5 + 48.0*x1*x6 + 16.0*x1*x7 + 32.0*x1*x8 + 32.0*x1*x9 - 76.0*x1 + 16*x10**2 + 16*x10*x11 + 8*x10*x12 + 32.0*x10*x2 + 24.0*x10*x3 + 8.0*x10*x4 + 16.0*x10*x5 + 96.0*x10*x6 + 32.0*x10*x7 + 64.0*x10*x8 + 64*x10*x9 - 152*x10 + 4*x11**2 + 4*x11*x12 + 16.0*x11*x2 + 12.0*x11*x3 + 4.0*x11*x4 + 8.0*x11*x5 + 48.0*x11*x6 + 16.0*x11*x7 + 32.0*x11*x8 + 32*x11*x9 - 76*x11 + x12**2 + 8.0*x12*x2 + 6.0*x12*x3 + 2.0*x12*x4 + 4.0*x12*x5 + 24.0*x12*x6 + 8.0*x12*x7 + 16.0*x12*x8 + 16*x12*x9 - 38*x12 + 16.0*x2**2 + 24.0*x2*x3 + 8.0*x2*x4 + 16.0*x2*x5 + 96.0*x2*x6 + 32.0*x2*x7 + 64.0*x2*x8 + 64.0*x2*x9 - 152.0*x2 + 9.0*x3**2 + 6.0*x3*x4 + 12.0*x3*x5 + 72.0*x3*x6 + 24.0*x3*x7 + 48.0*x3*x8 + 48.0*x3*x9 - 114.0*x3 + 1.0*x4**2 + 4.0*x4*x5 + 24.0*x4*x6 + 8.0*x4*x7 + 16.0*x4*x8 + 16.0*x4*x9 - 38.0*x4 + 4.0*x5**2 + 48.0*x5*x6 + 16.0*x5*x7 + 32.0*x5*x8 + 32.0*x5*x9 - 76.0*x5 + 144.0*x6**2 + 96.0*x6*x7 + 192.0*x6*x8 + 192.0*x6*x9 - 456.0*x6 + 16.0*x7**2 + 64.0*x7*x8 + 64.0*x7*x9 - 152.0*x7 + 64.0*x8**2 + 128.0*x8*x9 - 304.0*x8 + 64*x9**2 - 304*x9 + 361]\n"
     ]
    }
   ],
   "source": [
    "wft = WorkflowtestProblem()"
   ]
  },
  {
   "cell_type": "code",
   "execution_count": 4,
   "metadata": {},
   "outputs": [],
   "source": [
    "solver = QAOA(\n",
    "    problem=wft,\n",
    "    platform=\"pennylane\",\n",
    "    optimizer=QmlGradientDescent(200, qml.AdamOptimizer(stepsize=0.05)),\n",
    "    layers=5,\n",
    "    weights=[1,20,10],\n",
    "    angles=[[0.5]*5, [0.5]*5],\n",
    "    # mixer: str=,\n",
    "    # backend=\n",
    ")"
   ]
  },
  {
   "cell_type": "code",
   "execution_count": 5,
   "metadata": {},
   "outputs": [
    {
     "ename": "ValueError",
     "evalue": "Cannot add Hamiltonian and <class 'int'>",
     "output_type": "error",
     "traceback": [
      "\u001b[1;31m---------------------------------------------------------------------------\u001b[0m",
      "\u001b[1;31mValueError\u001b[0m                                Traceback (most recent call last)",
      "Cell \u001b[1;32mIn[5], line 1\u001b[0m\n\u001b[1;32m----> 1\u001b[0m value, params, weights \u001b[39m=\u001b[39m solver\u001b[39m.\u001b[39;49msolve()\n",
      "File \u001b[1;32mc:\\Users\\kzaja\\Documents\\mariusz\\QHyper-tmek-solvers_system\\demo\\..\\QHyper\\solvers\\QAOA\\Pennylane.py:235\u001b[0m, in \u001b[0;36mPennyLaneQAOA.solve\u001b[1;34m(self)\u001b[0m\n\u001b[0;32m    230\u001b[0m value_function \u001b[39m=\u001b[39m \u001b[39mself\u001b[39m\u001b[39m.\u001b[39mget_probs_val_func\n\u001b[0;32m    231\u001b[0m weights \u001b[39m=\u001b[39m \u001b[39mself\u001b[39m\u001b[39m.\u001b[39mhyperoptimizer\u001b[39m.\u001b[39mminimize(\n\u001b[0;32m    232\u001b[0m     value_function, \u001b[39mself\u001b[39m\u001b[39m.\u001b[39moptimizer, \u001b[39mself\u001b[39m\u001b[39m.\u001b[39mangles, np\u001b[39m.\u001b[39marray(\u001b[39mself\u001b[39m\u001b[39m.\u001b[39mweights), [\u001b[39m0\u001b[39m, \u001b[39m100\u001b[39m]\n\u001b[0;32m    233\u001b[0m     ) \u001b[39mif\u001b[39;00m \u001b[39mself\u001b[39m\u001b[39m.\u001b[39mhyperoptimizer \u001b[39melse\u001b[39;00m \u001b[39mself\u001b[39m\u001b[39m.\u001b[39mweights\n\u001b[1;32m--> 235\u001b[0m params \u001b[39m=\u001b[39m \u001b[39mself\u001b[39m\u001b[39m.\u001b[39moptimizer\u001b[39m.\u001b[39mminimize(\u001b[39mself\u001b[39;49m\u001b[39m.\u001b[39;49mget_expval_func(weights), \u001b[39mself\u001b[39m\u001b[39m.\u001b[39mangles)\n\u001b[0;32m    236\u001b[0m \u001b[39mreturn\u001b[39;00m value_function(weights)(params), params, weights\n",
      "File \u001b[1;32mc:\\Users\\kzaja\\Documents\\mariusz\\QHyper-tmek-solvers_system\\demo\\..\\QHyper\\solvers\\QAOA\\Pennylane.py:113\u001b[0m, in \u001b[0;36mPennyLaneQAOA.get_expval_func\u001b[1;34m(self, weights)\u001b[0m\n\u001b[0;32m    100\u001b[0m \u001b[39mdef\u001b[39;00m \u001b[39mget_expval_func\u001b[39m(\u001b[39mself\u001b[39m, weights: \u001b[39mlist\u001b[39m[\u001b[39mfloat\u001b[39m]):\n\u001b[0;32m    101\u001b[0m     \u001b[39m\"\"\"Returns function that takes angles and returns expectation value\u001b[39;00m\n\u001b[0;32m    102\u001b[0m \n\u001b[0;32m    103\u001b[0m \u001b[39m    Parameters\u001b[39;00m\n\u001b[1;32m   (...)\u001b[0m\n\u001b[0;32m    111\u001b[0m \u001b[39m        Returns function that takes angles and returns expectation value\u001b[39;00m\n\u001b[0;32m    112\u001b[0m \u001b[39m    \"\"\"\u001b[39;00m\n\u001b[1;32m--> 113\u001b[0m     cost_operator \u001b[39m=\u001b[39m \u001b[39mself\u001b[39;49m\u001b[39m.\u001b[39;49m_create_cost_operator(weights)\n\u001b[0;32m    114\u001b[0m     \u001b[39m@qml\u001b[39m\u001b[39m.\u001b[39mqnode(\u001b[39mself\u001b[39m\u001b[39m.\u001b[39mdev)\n\u001b[0;32m    115\u001b[0m     \u001b[39mdef\u001b[39;00m \u001b[39mcost_function\u001b[39m(params):\n\u001b[0;32m    116\u001b[0m         \u001b[39mself\u001b[39m\u001b[39m.\u001b[39m_circuit(params, cost_operator)\n",
      "File \u001b[1;32mc:\\Users\\kzaja\\Documents\\mariusz\\QHyper-tmek-solvers_system\\demo\\..\\QHyper\\solvers\\QAOA\\Pennylane.py:79\u001b[0m, in \u001b[0;36mPennyLaneQAOA._create_cost_operator\u001b[1;34m(self, weights)\u001b[0m\n\u001b[0;32m     77\u001b[0m \u001b[39mfor\u001b[39;00m weight, ingredient \u001b[39min\u001b[39;00m \u001b[39mzip\u001b[39m(weights, ingredients):\n\u001b[0;32m     78\u001b[0m     cost_operator \u001b[39m+\u001b[39m\u001b[39m=\u001b[39m \u001b[39mf\u001b[39m\u001b[39m\"\u001b[39m\u001b[39m+\u001b[39m\u001b[39m{\u001b[39;00mweight\u001b[39m}\u001b[39;00m\u001b[39m*(\u001b[39m\u001b[39m{\u001b[39;00mingredient\u001b[39m}\u001b[39;00m\u001b[39m)\u001b[39m\u001b[39m\"\u001b[39m\n\u001b[1;32m---> 79\u001b[0m \u001b[39mreturn\u001b[39;00m parse_hamiltonian(cost_operator)\n",
      "File \u001b[1;32mc:\\Users\\kzaja\\Documents\\mariusz\\QHyper-tmek-solvers_system\\demo\\..\\QHyper\\solvers\\QAOA\\parser.py:71\u001b[0m, in \u001b[0;36mparse_hamiltonian\u001b[1;34m(expresion)\u001b[0m\n\u001b[0;32m     69\u001b[0m tree \u001b[39m=\u001b[39m ast\u001b[39m.\u001b[39mparse(expresion)\n\u001b[0;32m     70\u001b[0m vis \u001b[39m=\u001b[39m Visitor()\n\u001b[1;32m---> 71\u001b[0m vis\u001b[39m.\u001b[39;49mvisit(tree)\n\u001b[0;32m     72\u001b[0m \u001b[39mfor\u001b[39;00m i, op \u001b[39min\u001b[39;00m \u001b[39menumerate\u001b[39m(vis\u001b[39m.\u001b[39mresults[\u001b[39m0\u001b[39m]\u001b[39m.\u001b[39mops):\n\u001b[0;32m     73\u001b[0m     \u001b[39mif\u001b[39;00m op\u001b[39m.\u001b[39mwires\u001b[39m.\u001b[39mtolist() \u001b[39m==\u001b[39m [\u001b[39m-\u001b[39m\u001b[39m1\u001b[39m]:\n",
      "File \u001b[1;32mC:\\Program Files\\WindowsApps\\PythonSoftwareFoundation.Python.3.10_3.10.2544.0_x64__qbz5n2kfra8p0\\lib\\ast.py:418\u001b[0m, in \u001b[0;36mNodeVisitor.visit\u001b[1;34m(self, node)\u001b[0m\n\u001b[0;32m    416\u001b[0m method \u001b[39m=\u001b[39m \u001b[39m'\u001b[39m\u001b[39mvisit_\u001b[39m\u001b[39m'\u001b[39m \u001b[39m+\u001b[39m node\u001b[39m.\u001b[39m\u001b[39m__class__\u001b[39m\u001b[39m.\u001b[39m\u001b[39m__name__\u001b[39m\n\u001b[0;32m    417\u001b[0m visitor \u001b[39m=\u001b[39m \u001b[39mgetattr\u001b[39m(\u001b[39mself\u001b[39m, method, \u001b[39mself\u001b[39m\u001b[39m.\u001b[39mgeneric_visit)\n\u001b[1;32m--> 418\u001b[0m \u001b[39mreturn\u001b[39;00m visitor(node)\n",
      "File \u001b[1;32mC:\\Program Files\\WindowsApps\\PythonSoftwareFoundation.Python.3.10_3.10.2544.0_x64__qbz5n2kfra8p0\\lib\\ast.py:426\u001b[0m, in \u001b[0;36mNodeVisitor.generic_visit\u001b[1;34m(self, node)\u001b[0m\n\u001b[0;32m    424\u001b[0m     \u001b[39mfor\u001b[39;00m item \u001b[39min\u001b[39;00m value:\n\u001b[0;32m    425\u001b[0m         \u001b[39mif\u001b[39;00m \u001b[39misinstance\u001b[39m(item, AST):\n\u001b[1;32m--> 426\u001b[0m             \u001b[39mself\u001b[39;49m\u001b[39m.\u001b[39;49mvisit(item)\n\u001b[0;32m    427\u001b[0m \u001b[39melif\u001b[39;00m \u001b[39misinstance\u001b[39m(value, AST):\n\u001b[0;32m    428\u001b[0m     \u001b[39mself\u001b[39m\u001b[39m.\u001b[39mvisit(value)\n",
      "File \u001b[1;32mC:\\Program Files\\WindowsApps\\PythonSoftwareFoundation.Python.3.10_3.10.2544.0_x64__qbz5n2kfra8p0\\lib\\ast.py:418\u001b[0m, in \u001b[0;36mNodeVisitor.visit\u001b[1;34m(self, node)\u001b[0m\n\u001b[0;32m    416\u001b[0m method \u001b[39m=\u001b[39m \u001b[39m'\u001b[39m\u001b[39mvisit_\u001b[39m\u001b[39m'\u001b[39m \u001b[39m+\u001b[39m node\u001b[39m.\u001b[39m\u001b[39m__class__\u001b[39m\u001b[39m.\u001b[39m\u001b[39m__name__\u001b[39m\n\u001b[0;32m    417\u001b[0m visitor \u001b[39m=\u001b[39m \u001b[39mgetattr\u001b[39m(\u001b[39mself\u001b[39m, method, \u001b[39mself\u001b[39m\u001b[39m.\u001b[39mgeneric_visit)\n\u001b[1;32m--> 418\u001b[0m \u001b[39mreturn\u001b[39;00m visitor(node)\n",
      "File \u001b[1;32mc:\\Users\\kzaja\\Documents\\mariusz\\QHyper-tmek-solvers_system\\demo\\..\\QHyper\\solvers\\QAOA\\parser.py:17\u001b[0m, in \u001b[0;36mVisitor.visit_Expr\u001b[1;34m(self, node)\u001b[0m\n\u001b[0;32m     15\u001b[0m \u001b[39mdef\u001b[39;00m \u001b[39mvisit_Expr\u001b[39m(\u001b[39mself\u001b[39m, node: ast\u001b[39m.\u001b[39mExpr) \u001b[39m-\u001b[39m\u001b[39m>\u001b[39m Any:\n\u001b[0;32m     16\u001b[0m     \u001b[39mfor\u001b[39;00m field, value \u001b[39min\u001b[39;00m ast\u001b[39m.\u001b[39miter_fields(node):\n\u001b[1;32m---> 17\u001b[0m         \u001b[39mself\u001b[39m\u001b[39m.\u001b[39mresults\u001b[39m.\u001b[39mappend(\u001b[39mself\u001b[39;49m\u001b[39m.\u001b[39;49mvisit(value))\n",
      "File \u001b[1;32mC:\\Program Files\\WindowsApps\\PythonSoftwareFoundation.Python.3.10_3.10.2544.0_x64__qbz5n2kfra8p0\\lib\\ast.py:418\u001b[0m, in \u001b[0;36mNodeVisitor.visit\u001b[1;34m(self, node)\u001b[0m\n\u001b[0;32m    416\u001b[0m method \u001b[39m=\u001b[39m \u001b[39m'\u001b[39m\u001b[39mvisit_\u001b[39m\u001b[39m'\u001b[39m \u001b[39m+\u001b[39m node\u001b[39m.\u001b[39m\u001b[39m__class__\u001b[39m\u001b[39m.\u001b[39m\u001b[39m__name__\u001b[39m\n\u001b[0;32m    417\u001b[0m visitor \u001b[39m=\u001b[39m \u001b[39mgetattr\u001b[39m(\u001b[39mself\u001b[39m, method, \u001b[39mself\u001b[39m\u001b[39m.\u001b[39mgeneric_visit)\n\u001b[1;32m--> 418\u001b[0m \u001b[39mreturn\u001b[39;00m visitor(node)\n",
      "File \u001b[1;32mc:\\Users\\kzaja\\Documents\\mariusz\\QHyper-tmek-solvers_system\\demo\\..\\QHyper\\solvers\\QAOA\\parser.py:23\u001b[0m, in \u001b[0;36mVisitor.visit_BinOp\u001b[1;34m(self, node)\u001b[0m\n\u001b[0;32m     21\u001b[0m right \u001b[39m=\u001b[39m \u001b[39mself\u001b[39m\u001b[39m.\u001b[39mvisit(node\u001b[39m.\u001b[39mright)\n\u001b[0;32m     22\u001b[0m \u001b[39mif\u001b[39;00m \u001b[39misinstance\u001b[39m(node\u001b[39m.\u001b[39mop, ast\u001b[39m.\u001b[39mAdd):\n\u001b[1;32m---> 23\u001b[0m     \u001b[39mreturn\u001b[39;00m left \u001b[39m+\u001b[39;49m right\n\u001b[0;32m     24\u001b[0m \u001b[39mif\u001b[39;00m \u001b[39misinstance\u001b[39m(node\u001b[39m.\u001b[39mop, ast\u001b[39m.\u001b[39mSub):\n\u001b[0;32m     25\u001b[0m     \u001b[39mreturn\u001b[39;00m left \u001b[39m-\u001b[39m right\n",
      "File \u001b[1;32m~\\AppData\\Local\\Packages\\PythonSoftwareFoundation.Python.3.10_qbz5n2kfra8p0\\LocalCache\\local-packages\\Python310\\site-packages\\pennylane\\ops\\qubit\\hamiltonian.py:587\u001b[0m, in \u001b[0;36mHamiltonian.__add__\u001b[1;34m(self, H)\u001b[0m\n\u001b[0;32m    584\u001b[0m     ops\u001b[39m.\u001b[39mappend(H)\n\u001b[0;32m    585\u001b[0m     \u001b[39mreturn\u001b[39;00m qml\u001b[39m.\u001b[39mHamiltonian(coeffs, ops, simplify\u001b[39m=\u001b[39m\u001b[39mTrue\u001b[39;00m)\n\u001b[1;32m--> 587\u001b[0m \u001b[39mraise\u001b[39;00m \u001b[39mValueError\u001b[39;00m(\u001b[39mf\u001b[39m\u001b[39m\"\u001b[39m\u001b[39mCannot add Hamiltonian and \u001b[39m\u001b[39m{\u001b[39;00m\u001b[39mtype\u001b[39m(H)\u001b[39m}\u001b[39;00m\u001b[39m\"\u001b[39m)\n",
      "\u001b[1;31mValueError\u001b[0m: Cannot add Hamiltonian and <class 'int'>"
     ]
    }
   ],
   "source": [
    "value, params, weights = solver.solve()"
   ]
  },
  {
   "cell_type": "code",
   "execution_count": 6,
   "metadata": {},
   "outputs": [
    {
     "ename": "Exception",
     "evalue": "Number of provided weights (1) is different from number of ingredients (3)",
     "output_type": "error",
     "traceback": [
      "\u001b[1;31m---------------------------------------------------------------------------\u001b[0m",
      "\u001b[1;31mException\u001b[0m                                 Traceback (most recent call last)",
      "Cell \u001b[1;32mIn[6], line 1\u001b[0m\n\u001b[1;32m----> 1\u001b[0m probs \u001b[39m=\u001b[39m solver\u001b[39m.\u001b[39;49mget_probs_func([\u001b[39m1\u001b[39;49m])(params)\n",
      "File \u001b[1;32mc:\\Users\\kzaja\\Documents\\mariusz\\QHyper-tmek-solvers_system\\demo\\..\\QHyper\\solvers\\QAOA\\Pennylane.py:162\u001b[0m, in \u001b[0;36mPennyLaneQAOA.get_probs_func\u001b[1;34m(self, weights)\u001b[0m\n\u001b[0;32m    148\u001b[0m \u001b[39mdef\u001b[39;00m \u001b[39mget_probs_func\u001b[39m(\u001b[39mself\u001b[39m, weights):\n\u001b[0;32m    149\u001b[0m     \u001b[39m\"\"\"Returns function that takes angles and returns probabilities \u001b[39;00m\n\u001b[0;32m    150\u001b[0m \n\u001b[0;32m    151\u001b[0m \u001b[39m    Parameters\u001b[39;00m\n\u001b[1;32m   (...)\u001b[0m\n\u001b[0;32m    159\u001b[0m \u001b[39m        Returns function that takes angles and returns probabilities\u001b[39;00m\n\u001b[0;32m    160\u001b[0m \u001b[39m    \"\"\"\u001b[39;00m\n\u001b[1;32m--> 162\u001b[0m     cost_operator \u001b[39m=\u001b[39m \u001b[39mself\u001b[39;49m\u001b[39m.\u001b[39;49m_create_cost_operator(weights)\n\u001b[0;32m    163\u001b[0m     \u001b[39m@qml\u001b[39m\u001b[39m.\u001b[39mqnode(\u001b[39mself\u001b[39m\u001b[39m.\u001b[39mdev)\n\u001b[0;32m    164\u001b[0m     \u001b[39mdef\u001b[39;00m \u001b[39mprobability_circuit\u001b[39m(params):\n\u001b[0;32m    165\u001b[0m         \u001b[39mself\u001b[39m\u001b[39m.\u001b[39m_circuit(params, cost_operator)\n",
      "File \u001b[1;32mc:\\Users\\kzaja\\Documents\\mariusz\\QHyper-tmek-solvers_system\\demo\\..\\QHyper\\solvers\\QAOA\\Pennylane.py:75\u001b[0m, in \u001b[0;36mPennyLaneQAOA._create_cost_operator\u001b[1;34m(self, weights)\u001b[0m\n\u001b[0;32m     73\u001b[0m cost_operator \u001b[39m=\u001b[39m \u001b[39m\"\u001b[39m\u001b[39m\"\u001b[39m\n\u001b[0;32m     74\u001b[0m \u001b[39mif\u001b[39;00m \u001b[39mlen\u001b[39m(weights) \u001b[39m!=\u001b[39m \u001b[39mlen\u001b[39m(ingredients):\n\u001b[1;32m---> 75\u001b[0m     \u001b[39mraise\u001b[39;00m \u001b[39mException\u001b[39;00m(\n\u001b[0;32m     76\u001b[0m         \u001b[39mf\u001b[39m\u001b[39m\"\u001b[39m\u001b[39mNumber of provided weights (\u001b[39m\u001b[39m{\u001b[39;00m\u001b[39mlen\u001b[39m(weights)\u001b[39m}\u001b[39;00m\u001b[39m) is different from number of ingredients (\u001b[39m\u001b[39m{\u001b[39;00m\u001b[39mlen\u001b[39m(ingredients)\u001b[39m}\u001b[39;00m\u001b[39m)\u001b[39m\u001b[39m\"\u001b[39m)\n\u001b[0;32m     77\u001b[0m \u001b[39mfor\u001b[39;00m weight, ingredient \u001b[39min\u001b[39;00m \u001b[39mzip\u001b[39m(weights, ingredients):\n\u001b[0;32m     78\u001b[0m     cost_operator \u001b[39m+\u001b[39m\u001b[39m=\u001b[39m \u001b[39mf\u001b[39m\u001b[39m\"\u001b[39m\u001b[39m+\u001b[39m\u001b[39m{\u001b[39;00mweight\u001b[39m}\u001b[39;00m\u001b[39m*(\u001b[39m\u001b[39m{\u001b[39;00mingredient\u001b[39m}\u001b[39;00m\u001b[39m)\u001b[39m\u001b[39m\"\u001b[39m\n",
      "\u001b[1;31mException\u001b[0m: Number of provided weights (1) is different from number of ingredients (3)"
     ]
    }
   ],
   "source": [
    "probs = solver.get_probs_func([1])(params)"
   ]
  },
  {
   "cell_type": "code",
   "execution_count": null,
   "metadata": {},
   "outputs": [],
   "source": [
    "solver.check_results(probs)"
   ]
  },
  {
   "cell_type": "code",
   "execution_count": null,
   "metadata": {},
   "outputs": [],
   "source": [
    "%load_ext autoreload\n",
    "%autoreload 2"
   ]
  },
  {
   "cell_type": "code",
   "execution_count": null,
   "metadata": {},
   "outputs": [],
   "source": [
    "solver.print_results(probs)"
   ]
  },
  {
   "cell_type": "code",
   "execution_count": null,
   "metadata": {},
   "outputs": [],
   "source": []
  }
 ],
 "metadata": {
  "kernelspec": {
   "display_name": "Python 3",
   "language": "python",
   "name": "python3"
  },
  "language_info": {
   "codemirror_mode": {
    "name": "ipython",
    "version": 3
   },
   "file_extension": ".py",
   "mimetype": "text/x-python",
   "name": "python",
   "nbconvert_exporter": "python",
   "pygments_lexer": "ipython3",
   "version": "3.10.4"
  },
  "orig_nbformat": 4,
  "vscode": {
   "interpreter": {
    "hash": "369f2c481f4da34e4445cda3fffd2e751bd1c4d706f27375911949ba6bb62e1c"
   }
  }
 },
 "nbformat": 4,
 "nbformat_minor": 2
}
